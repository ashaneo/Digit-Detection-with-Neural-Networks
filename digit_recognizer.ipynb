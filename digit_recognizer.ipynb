{
 "cells": [
  {
   "cell_type": "code",
   "execution_count": 44,
   "metadata": {},
   "outputs": [],
   "source": [
    "import numpy as np\n",
    "import pandas as pd\n",
    "from matplotlib import pyplot as plt"
   ]
  },
  {
   "cell_type": "code",
   "execution_count": 45,
   "metadata": {},
   "outputs": [
    {
     "data": {
      "text/html": [
       "<div>\n",
       "<style scoped>\n",
       "    .dataframe tbody tr th:only-of-type {\n",
       "        vertical-align: middle;\n",
       "    }\n",
       "\n",
       "    .dataframe tbody tr th {\n",
       "        vertical-align: top;\n",
       "    }\n",
       "\n",
       "    .dataframe thead th {\n",
       "        text-align: right;\n",
       "    }\n",
       "</style>\n",
       "<table border=\"1\" class=\"dataframe\">\n",
       "  <thead>\n",
       "    <tr style=\"text-align: right;\">\n",
       "      <th></th>\n",
       "      <th>label</th>\n",
       "      <th>pixel0</th>\n",
       "      <th>pixel1</th>\n",
       "      <th>pixel2</th>\n",
       "      <th>pixel3</th>\n",
       "      <th>pixel4</th>\n",
       "      <th>pixel5</th>\n",
       "      <th>pixel6</th>\n",
       "      <th>pixel7</th>\n",
       "      <th>pixel8</th>\n",
       "      <th>...</th>\n",
       "      <th>pixel774</th>\n",
       "      <th>pixel775</th>\n",
       "      <th>pixel776</th>\n",
       "      <th>pixel777</th>\n",
       "      <th>pixel778</th>\n",
       "      <th>pixel779</th>\n",
       "      <th>pixel780</th>\n",
       "      <th>pixel781</th>\n",
       "      <th>pixel782</th>\n",
       "      <th>pixel783</th>\n",
       "    </tr>\n",
       "  </thead>\n",
       "  <tbody>\n",
       "    <tr>\n",
       "      <th>0</th>\n",
       "      <td>1</td>\n",
       "      <td>0</td>\n",
       "      <td>0</td>\n",
       "      <td>0</td>\n",
       "      <td>0</td>\n",
       "      <td>0</td>\n",
       "      <td>0</td>\n",
       "      <td>0</td>\n",
       "      <td>0</td>\n",
       "      <td>0</td>\n",
       "      <td>...</td>\n",
       "      <td>0</td>\n",
       "      <td>0</td>\n",
       "      <td>0</td>\n",
       "      <td>0</td>\n",
       "      <td>0</td>\n",
       "      <td>0</td>\n",
       "      <td>0</td>\n",
       "      <td>0</td>\n",
       "      <td>0</td>\n",
       "      <td>0</td>\n",
       "    </tr>\n",
       "    <tr>\n",
       "      <th>1</th>\n",
       "      <td>0</td>\n",
       "      <td>0</td>\n",
       "      <td>0</td>\n",
       "      <td>0</td>\n",
       "      <td>0</td>\n",
       "      <td>0</td>\n",
       "      <td>0</td>\n",
       "      <td>0</td>\n",
       "      <td>0</td>\n",
       "      <td>0</td>\n",
       "      <td>...</td>\n",
       "      <td>0</td>\n",
       "      <td>0</td>\n",
       "      <td>0</td>\n",
       "      <td>0</td>\n",
       "      <td>0</td>\n",
       "      <td>0</td>\n",
       "      <td>0</td>\n",
       "      <td>0</td>\n",
       "      <td>0</td>\n",
       "      <td>0</td>\n",
       "    </tr>\n",
       "    <tr>\n",
       "      <th>2</th>\n",
       "      <td>1</td>\n",
       "      <td>0</td>\n",
       "      <td>0</td>\n",
       "      <td>0</td>\n",
       "      <td>0</td>\n",
       "      <td>0</td>\n",
       "      <td>0</td>\n",
       "      <td>0</td>\n",
       "      <td>0</td>\n",
       "      <td>0</td>\n",
       "      <td>...</td>\n",
       "      <td>0</td>\n",
       "      <td>0</td>\n",
       "      <td>0</td>\n",
       "      <td>0</td>\n",
       "      <td>0</td>\n",
       "      <td>0</td>\n",
       "      <td>0</td>\n",
       "      <td>0</td>\n",
       "      <td>0</td>\n",
       "      <td>0</td>\n",
       "    </tr>\n",
       "    <tr>\n",
       "      <th>3</th>\n",
       "      <td>4</td>\n",
       "      <td>0</td>\n",
       "      <td>0</td>\n",
       "      <td>0</td>\n",
       "      <td>0</td>\n",
       "      <td>0</td>\n",
       "      <td>0</td>\n",
       "      <td>0</td>\n",
       "      <td>0</td>\n",
       "      <td>0</td>\n",
       "      <td>...</td>\n",
       "      <td>0</td>\n",
       "      <td>0</td>\n",
       "      <td>0</td>\n",
       "      <td>0</td>\n",
       "      <td>0</td>\n",
       "      <td>0</td>\n",
       "      <td>0</td>\n",
       "      <td>0</td>\n",
       "      <td>0</td>\n",
       "      <td>0</td>\n",
       "    </tr>\n",
       "    <tr>\n",
       "      <th>4</th>\n",
       "      <td>0</td>\n",
       "      <td>0</td>\n",
       "      <td>0</td>\n",
       "      <td>0</td>\n",
       "      <td>0</td>\n",
       "      <td>0</td>\n",
       "      <td>0</td>\n",
       "      <td>0</td>\n",
       "      <td>0</td>\n",
       "      <td>0</td>\n",
       "      <td>...</td>\n",
       "      <td>0</td>\n",
       "      <td>0</td>\n",
       "      <td>0</td>\n",
       "      <td>0</td>\n",
       "      <td>0</td>\n",
       "      <td>0</td>\n",
       "      <td>0</td>\n",
       "      <td>0</td>\n",
       "      <td>0</td>\n",
       "      <td>0</td>\n",
       "    </tr>\n",
       "  </tbody>\n",
       "</table>\n",
       "<p>5 rows × 785 columns</p>\n",
       "</div>"
      ],
      "text/plain": [
       "   label  pixel0  pixel1  pixel2  pixel3  pixel4  pixel5  pixel6  pixel7   \n",
       "0      1       0       0       0       0       0       0       0       0  \\\n",
       "1      0       0       0       0       0       0       0       0       0   \n",
       "2      1       0       0       0       0       0       0       0       0   \n",
       "3      4       0       0       0       0       0       0       0       0   \n",
       "4      0       0       0       0       0       0       0       0       0   \n",
       "\n",
       "   pixel8  ...  pixel774  pixel775  pixel776  pixel777  pixel778  pixel779   \n",
       "0       0  ...         0         0         0         0         0         0  \\\n",
       "1       0  ...         0         0         0         0         0         0   \n",
       "2       0  ...         0         0         0         0         0         0   \n",
       "3       0  ...         0         0         0         0         0         0   \n",
       "4       0  ...         0         0         0         0         0         0   \n",
       "\n",
       "   pixel780  pixel781  pixel782  pixel783  \n",
       "0         0         0         0         0  \n",
       "1         0         0         0         0  \n",
       "2         0         0         0         0  \n",
       "3         0         0         0         0  \n",
       "4         0         0         0         0  \n",
       "\n",
       "[5 rows x 785 columns]"
      ]
     },
     "execution_count": 45,
     "metadata": {},
     "output_type": "execute_result"
    }
   ],
   "source": [
    "data = pd.read_csv(\"digit-recognizer/train.csv\") #Here we use the famous MNIST dataset\n",
    "#You can download it from here: https://www.kaggle.com/c/digit-recognizer/data\n",
    "data.head()"
   ]
  },
  {
   "cell_type": "code",
   "execution_count": 46,
   "metadata": {},
   "outputs": [],
   "source": [
    "data = np.array(data) # convert data into to numpy array\n",
    "m, n = data.shape # m = 42000, n = 785 since there are 42000 examples and 784 pixels + 1 label\n",
    "np.random.shuffle(data) # shuffle before splitting into dev and training sets\n",
    "\n",
    "data_dev = data[0:1000].T # first 1000 examples for dev set (1000, 785) and transpose\n",
    "Y_dev = data_dev[0] # first column is the labels which represent the label of the digit\n",
    "X_dev = data_dev[1:n] # rest of the columns are the pixels\n",
    "X_dev = X_dev / 255 # normalize the pixels we will divide by 255 since the max value of a pixel is 255\n",
    "\n",
    "data_train = data[1000:m].T # rest of the examples for training set (41000, 785) and transpose\n",
    "Y_train = data_train[0] # first column is the labels which represent the label of the digit\n",
    "X_train = data_train[1:n] # rest of the columns are the pixels\n",
    "X_train = X_train / 255. # normalize the pixels we will divide by 255 since the max value of a pixel is 255\n",
    "_,m_train = X_train.shape # m_train = 41000 examples for training set"
   ]
  },
  {
   "cell_type": "code",
   "execution_count": 47,
   "metadata": {},
   "outputs": [
    {
     "data": {
      "text/plain": [
       "array([6, 9, 0, ..., 3, 6, 0], dtype=int64)"
      ]
     },
     "execution_count": 47,
     "metadata": {},
     "output_type": "execute_result"
    }
   ],
   "source": [
    "Y_train"
   ]
  },
  {
   "cell_type": "code",
   "execution_count": 48,
   "metadata": {},
   "outputs": [],
   "source": [
    "#Initialize the parameters\n",
    "def init_params(): \n",
    "    W1 = np.random.rand(10, 784) - 0.5 #10x784(10 raws and 784 columns) matrix with random values between -0.5 and 0.5 which will store weights of the first layer \n",
    "    b1 = np.random.rand(10,1) - 0.5 #10x1 matrix with random values between -0.5 and 0.5 which store bias of the first layer\n",
    "    W2 = np.random.rand(10, 10) - 0.5 #10x10 matrix with random values between -0.5 and 0.5 which will store weights of the second layer\n",
    "    b2 = np.random.rand(10, 1) - 0.5 #10x1 matrix with random values between -0.5 and 0.5 which store bias of the second layer\n",
    "    \n",
    "    return W1, b1, W2,b2"
   ]
  },
  {
   "cell_type": "code",
   "execution_count": 49,
   "metadata": {},
   "outputs": [],
   "source": [
    "def ReLu(Z): #ReLu function which will be used as activation function\n",
    "    return np.maximum(Z, 0) #Return the maximum value between Z and 0\n",
    "    \n",
    "def Softmax(Z): #Softmax function which will be used as activation function\n",
    "    A =  np.exp(Z) / sum(np.exp(Z)) #Return the exponential of Z divided by the sum of exponential of Z\n",
    "    return A\n",
    "    \n",
    "def forward_prop(W1, b1, W2, b2, X): #Forward propagation function\n",
    "    Z1 = W1.dot(X) + b1 \n",
    "    A1 = ReLu(Z1)\n",
    "    Z2 = W2.dot(A1) + b2\n",
    "    A2 = Softmax(Z2)\n",
    "    return Z1, A1, Z2, A2\n",
    "\n",
    "def ReLU_deriv(Z): #Derivative of ReLu function which will be used in back propagation\n",
    "    return Z > 0"
   ]
  },
  {
   "cell_type": "code",
   "execution_count": 50,
   "metadata": {},
   "outputs": [],
   "source": [
    "def one_hot(Y): #One hot encoding function which will be used to convert labels to one hot encoding\n",
    "    one_hot_Y = np.zeros((Y.size, Y.max() + 1)) #Create a matrix with zeros with size of Y and number of columns equal to the maximum value of Y\n",
    "    one_hot_Y[np.arange(Y.size), Y] = 1 #Set the value of the column which is equal to the value of Y to 1\n",
    "    one_hot_Y = one_hot_Y.T #Get the transpose of the matrix because we want to have one hot encoding in columns\n",
    "    return one_hot_Y #Return the one hot encoding matrix\n",
    "            \n",
    "def backward_prop(Z1, A1, Z2, A2, W1, W2, X, Y): #Backward propagation function which will calculate the derivatives of the parameters\n",
    "    one_hot_Y = one_hot(Y) #Convert the labels to one hot encoding\n",
    "    dZ2 = A2 - one_hot_Y #Calculate the derivative of Z2\n",
    "    dW2 = 1 / m * dZ2.dot(A1.T) \n",
    "    db2 = 1 / m * np.sum(dZ2) \n",
    "    dZ1 = W2.T.dot(dZ2) * ReLU_deriv(Z1) \n",
    "    dW1 = 1 / m * dZ1.dot(X.T)\n",
    "    db1 = 1 / m * np.sum(dZ1)\n",
    "    return dW1, db1, dW2, db2\n",
    "\n",
    "def update_params(W1, b1, W2, b2, dW1, db1, dW2, db2, alpha): #Update parameters function which will update the parameters using the derivatives\n",
    "    W1 = W1 - alpha * dW1\n",
    "    b1 = b1 - alpha * db1\n",
    "    W2 = W2 - alpha * dW2\n",
    "    b2 = b2 - alpha * db2\n",
    "    return W1, b1, W2, b2"
   ]
  },
  {
   "cell_type": "code",
   "execution_count": 51,
   "metadata": {},
   "outputs": [],
   "source": [
    "def get_predictions(A2): #Get predictions function which will return the predictions of the model\n",
    "    return np.argmax(A2, 0)\n",
    "\n",
    "def get_accuracy(predictions, Y): #Get accuracy function which will return the accuracy of the model\n",
    "    print(predictions, Y)\n",
    "    return np.sum(predictions == Y) / Y.size\n",
    "    \n",
    "def gradient_descent(X, Y, alpha, iterations): #Gradient descent function which will train the model\n",
    "    W1, b1, W2, b2 = init_params() #Initialize the parameters\n",
    "#     print(W1)\n",
    "    for i in range(iterations): #Loop through the iterations\n",
    "        Z1, A1, Z2, A2 = forward_prop(W1, b1, W2, b2, X) #Forward propagation\n",
    "        dW1, db1, dW2, db2 = backward_prop(Z1, A1, Z2, A2, W1, W2, X, Y) #Backward propagation\n",
    "        W1, b1, W2, b2 = update_params(W1, b1, W2, b2, dW1, db1, dW2, db2, alpha) #Update parameters\n",
    "        if i % 10 == 0: #Print the accuracy every 10 iterations\n",
    "            print(\"Iteration: \", i)\n",
    "            predictions = get_predictions(A2)\n",
    "            print(get_accuracy(predictions, Y))\n",
    "#             print(W1)\n",
    "#             print(\"##########################################\")\n",
    "    return W1, b1, W2, b2"
   ]
  },
  {
   "cell_type": "code",
   "execution_count": null,
   "metadata": {},
   "outputs": [],
   "source": []
  },
  {
   "cell_type": "code",
   "execution_count": 52,
   "metadata": {},
   "outputs": [
    {
     "name": "stdout",
     "output_type": "stream",
     "text": [
      "Iteration:  0\n",
      "[1 7 1 ... 1 1 1] [6 9 0 ... 3 6 0]\n",
      "0.0984390243902439\n",
      "Iteration:  10\n",
      "[1 7 0 ... 4 5 2] [6 9 0 ... 3 6 0]\n",
      "0.22821951219512196\n",
      "Iteration:  20\n",
      "[8 9 0 ... 1 8 0] [6 9 0 ... 3 6 0]\n",
      "0.32339024390243903\n",
      "Iteration:  30\n",
      "[8 9 0 ... 1 6 0] [6 9 0 ... 3 6 0]\n",
      "0.377390243902439\n",
      "Iteration:  40\n",
      "[8 9 0 ... 1 2 0] [6 9 0 ... 3 6 0]\n",
      "0.4212439024390244\n",
      "Iteration:  50\n",
      "[8 9 0 ... 1 2 0] [6 9 0 ... 3 6 0]\n",
      "0.45839024390243904\n",
      "Iteration:  60\n",
      "[8 9 0 ... 1 2 0] [6 9 0 ... 3 6 0]\n",
      "0.49109756097560975\n",
      "Iteration:  70\n",
      "[8 9 0 ... 1 2 0] [6 9 0 ... 3 6 0]\n",
      "0.518390243902439\n",
      "Iteration:  80\n",
      "[8 9 0 ... 1 2 0] [6 9 0 ... 3 6 0]\n",
      "0.5435121951219513\n",
      "Iteration:  90\n",
      "[8 9 0 ... 1 2 0] [6 9 0 ... 3 6 0]\n",
      "0.565390243902439\n",
      "Iteration:  100\n",
      "[8 9 0 ... 1 2 0] [6 9 0 ... 3 6 0]\n",
      "0.5884146341463414\n",
      "Iteration:  110\n",
      "[8 9 0 ... 3 2 0] [6 9 0 ... 3 6 0]\n",
      "0.6088536585365854\n",
      "Iteration:  120\n",
      "[8 9 0 ... 3 2 0] [6 9 0 ... 3 6 0]\n",
      "0.6301707317073171\n",
      "Iteration:  130\n",
      "[8 9 0 ... 3 2 0] [6 9 0 ... 3 6 0]\n",
      "0.6480243902439025\n",
      "Iteration:  140\n",
      "[8 9 0 ... 3 2 0] [6 9 0 ... 3 6 0]\n",
      "0.6641463414634147\n",
      "Iteration:  150\n",
      "[8 9 0 ... 3 2 0] [6 9 0 ... 3 6 0]\n",
      "0.6795365853658537\n",
      "Iteration:  160\n",
      "[8 9 0 ... 3 2 0] [6 9 0 ... 3 6 0]\n",
      "0.6935365853658536\n",
      "Iteration:  170\n",
      "[8 9 0 ... 3 2 0] [6 9 0 ... 3 6 0]\n",
      "0.7061463414634146\n",
      "Iteration:  180\n",
      "[8 9 0 ... 3 2 0] [6 9 0 ... 3 6 0]\n",
      "0.7171219512195122\n",
      "Iteration:  190\n",
      "[8 9 0 ... 3 2 0] [6 9 0 ... 3 6 0]\n",
      "0.7274390243902439\n",
      "Iteration:  200\n",
      "[8 9 0 ... 3 2 0] [6 9 0 ... 3 6 0]\n",
      "0.7368780487804878\n",
      "Iteration:  210\n",
      "[8 9 0 ... 3 2 0] [6 9 0 ... 3 6 0]\n",
      "0.7456341463414634\n",
      "Iteration:  220\n",
      "[8 9 0 ... 3 2 0] [6 9 0 ... 3 6 0]\n",
      "0.7535365853658537\n",
      "Iteration:  230\n",
      "[8 9 0 ... 3 2 0] [6 9 0 ... 3 6 0]\n",
      "0.7611219512195122\n",
      "Iteration:  240\n",
      "[8 9 0 ... 3 2 0] [6 9 0 ... 3 6 0]\n",
      "0.7682682926829268\n",
      "Iteration:  250\n",
      "[8 9 0 ... 3 2 0] [6 9 0 ... 3 6 0]\n",
      "0.7750243902439025\n",
      "Iteration:  260\n",
      "[8 9 0 ... 3 2 0] [6 9 0 ... 3 6 0]\n",
      "0.7802682926829269\n",
      "Iteration:  270\n",
      "[8 9 0 ... 3 6 0] [6 9 0 ... 3 6 0]\n",
      "0.785829268292683\n",
      "Iteration:  280\n",
      "[8 9 0 ... 3 6 0] [6 9 0 ... 3 6 0]\n",
      "0.7900975609756098\n",
      "Iteration:  290\n",
      "[8 9 0 ... 3 6 0] [6 9 0 ... 3 6 0]\n",
      "0.7947073170731708\n",
      "Iteration:  300\n",
      "[8 9 0 ... 3 6 0] [6 9 0 ... 3 6 0]\n",
      "0.7990487804878049\n",
      "Iteration:  310\n",
      "[8 9 0 ... 3 6 0] [6 9 0 ... 3 6 0]\n",
      "0.8030487804878049\n",
      "Iteration:  320\n",
      "[8 9 0 ... 3 6 0] [6 9 0 ... 3 6 0]\n",
      "0.8069512195121952\n",
      "Iteration:  330\n",
      "[8 9 0 ... 3 6 0] [6 9 0 ... 3 6 0]\n",
      "0.8097073170731708\n",
      "Iteration:  340\n",
      "[8 9 0 ... 3 6 0] [6 9 0 ... 3 6 0]\n",
      "0.8128780487804877\n",
      "Iteration:  350\n",
      "[8 9 0 ... 3 6 0] [6 9 0 ... 3 6 0]\n",
      "0.8160243902439024\n",
      "Iteration:  360\n",
      "[8 9 0 ... 3 6 0] [6 9 0 ... 3 6 0]\n",
      "0.8190487804878048\n",
      "Iteration:  370\n",
      "[5 9 0 ... 3 6 0] [6 9 0 ... 3 6 0]\n",
      "0.8218292682926829\n",
      "Iteration:  380\n",
      "[5 9 0 ... 3 6 0] [6 9 0 ... 3 6 0]\n",
      "0.8241219512195121\n",
      "Iteration:  390\n",
      "[5 9 0 ... 3 6 0] [6 9 0 ... 3 6 0]\n",
      "0.8270243902439024\n",
      "Iteration:  400\n",
      "[5 9 0 ... 3 6 0] [6 9 0 ... 3 6 0]\n",
      "0.8293658536585365\n",
      "Iteration:  410\n",
      "[5 9 0 ... 3 6 0] [6 9 0 ... 3 6 0]\n",
      "0.8316585365853658\n",
      "Iteration:  420\n",
      "[5 9 0 ... 3 6 0] [6 9 0 ... 3 6 0]\n",
      "0.8332439024390244\n",
      "Iteration:  430\n",
      "[5 9 0 ... 3 6 0] [6 9 0 ... 3 6 0]\n",
      "0.8349268292682926\n",
      "Iteration:  440\n",
      "[5 9 0 ... 3 6 0] [6 9 0 ... 3 6 0]\n",
      "0.8367560975609756\n",
      "Iteration:  450\n",
      "[5 9 0 ... 3 6 0] [6 9 0 ... 3 6 0]\n",
      "0.8387317073170731\n",
      "Iteration:  460\n",
      "[5 9 0 ... 3 6 0] [6 9 0 ... 3 6 0]\n",
      "0.8401951219512195\n",
      "Iteration:  470\n",
      "[5 9 0 ... 3 6 0] [6 9 0 ... 3 6 0]\n",
      "0.8419756097560975\n",
      "Iteration:  480\n",
      "[5 9 0 ... 3 6 0] [6 9 0 ... 3 6 0]\n",
      "0.8436585365853658\n",
      "Iteration:  490\n",
      "[5 9 0 ... 3 6 0] [6 9 0 ... 3 6 0]\n",
      "0.8449512195121951\n"
     ]
    }
   ],
   "source": [
    "W1, b1, W2, b2 = gradient_descent(X_train, Y_train, 0.10, 500) #Train the model"
   ]
  },
  {
   "cell_type": "code",
   "execution_count": 53,
   "metadata": {},
   "outputs": [
    {
     "name": "stdout",
     "output_type": "stream",
     "text": [
      "[[-0.03528428 -0.05319233 -0.00137302 ...  0.02150738 -0.31262064\n",
      "  -0.2420227 ]\n",
      " [-0.05791323  0.30852507 -0.42693248 ...  0.27019629  0.06383263\n",
      "   0.36202823]\n",
      " [-0.46405886  0.30133978 -0.2685154  ...  0.16024783  0.01727817\n",
      "   0.1950926 ]\n",
      " ...\n",
      " [-0.04919654  0.47659301  0.32702233 ... -0.44495752  0.12249322\n",
      "  -0.32473482]\n",
      " [ 0.03773824 -0.13638845  0.41692165 ... -0.01198778 -0.13750899\n",
      "   0.14410734]\n",
      " [-0.47058444 -0.31825958  0.48606699 ...  0.28602459  0.15432497\n",
      "  -0.34491934]]\n"
     ]
    }
   ],
   "source": [
    "print(W1)"
   ]
  },
  {
   "cell_type": "code",
   "execution_count": 57,
   "metadata": {},
   "outputs": [
    {
     "name": "stderr",
     "output_type": "stream",
     "text": [
      "UsageError: Line magic function `%` not found.\n"
     ]
    }
   ],
   "source": [
    "% pip install joblib\n"
   ]
  },
  {
   "cell_type": "code",
   "execution_count": 59,
   "metadata": {},
   "outputs": [
    {
     "name": "stdout",
     "output_type": "stream",
     "text": [
      "Trained model saved as trained_digit_detection_model.pkl\n"
     ]
    }
   ],
   "source": [
    "import joblib\n",
    "\n",
    "#Save the trained model\n",
    "\n",
    "# After training is complete and you have your trained model, save it like this:\n",
    "trained_model = {\n",
    "    'W1': W1,\n",
    "    'b1': b1,\n",
    "    'W2': W2,\n",
    "    'b2': b2,\n",
    "    # Add any other necessary information or hyperparameters here\n",
    "}\n",
    "\n",
    "# Specify the file path where you want to save the model\n",
    "model_filename = 'trained_digit_detection_model.pkl'\n",
    "\n",
    "# Save the model using joblib\n",
    "joblib.dump(trained_model, model_filename)\n",
    "\n",
    "print(f\"Trained model saved as {model_filename}\")"
   ]
  },
  {
   "cell_type": "code",
   "execution_count": 54,
   "metadata": {},
   "outputs": [],
   "source": [
    "def make_predictions(X, W1, b1, W2, b2):\n",
    "    _, _, _, A2 = forward_prop(W1, b1, W2, b2, X)\n",
    "    predictions = get_predictions(A2)\n",
    "    return predictions\n",
    "\n",
    "def test_prediction(index, W1, b1, W2, b2):\n",
    "    current_image = X_train[:, index, None]\n",
    "    prediction = make_predictions(X_train[:, index, None], W1, b1, W2, b2)\n",
    "    label = Y_train[index]\n",
    "    print(\"Prediction: \", prediction)\n",
    "    print(\"Label: \", label)\n",
    "    \n",
    "    current_image = current_image.reshape((28, 28)) * 255\n",
    "    plt.gray()\n",
    "    plt.imshow(current_image, interpolation='nearest')\n",
    "    plt.show()"
   ]
  },
  {
   "cell_type": "code",
   "execution_count": 55,
   "metadata": {},
   "outputs": [
    {
     "name": "stdout",
     "output_type": "stream",
     "text": [
      "Prediction:  [5]\n",
      "Label:  6\n"
     ]
    },
    {
     "data": {
      "image/png": "[encoded data removed]",
      "text/plain": [
       "<Figure size 640x480 with 1 Axes>"
      ]
     },
     "metadata": {},
     "output_type": "display_data"
    },
    {
     "name": "stdout",
     "output_type": "stream",
     "text": [
      "Prediction:  [9]\n",
      "Label:  9\n"
     ]
    },
    {
     "data": {
      "image/png": "[encoded data removed]",
      "text/plain": [
       "<Figure size 640x480 with 1 Axes>"
      ]
     },
     "metadata": {},
     "output_type": "display_data"
    },
    {
     "name": "stdout",
     "output_type": "stream",
     "text": [
      "Prediction:  [0]\n",
      "Label:  0\n"
     ]
    },
    {
     "data": {
      "image/png": "[encoded data removed]",
      "text/plain": [
       "<Figure size 640x480 with 1 Axes>"
      ]
     },
     "metadata": {},
     "output_type": "display_data"
    },
    {
     "name": "stdout",
     "output_type": "stream",
     "text": [
      "Prediction:  [8]\n",
      "Label:  8\n"
     ]
    },
    {
     "data": {
      "image/png": "[encoded data removed]",
      "text/plain": [
       "<Figure size 640x480 with 1 Axes>"
      ]
     },
     "metadata": {},
     "output_type": "display_data"
    }
   ],
   "source": [
    "test_prediction(0, W1, b1, W2, b2)\n",
    "test_prediction(1, W1, b1, W2, b2)\n",
    "test_prediction(2, W1, b1, W2, b2)\n",
    "test_prediction(3, W1, b1, W2, b2)"
   ]
  },
  {
   "cell_type": "code",
   "execution_count": 56,
   "metadata": {},
   "outputs": [
    {
     "name": "stdout",
     "output_type": "stream",
     "text": [
      "[4 5 4 1 3 0 2 8 8 3 0 1 7 0 2 9 4 0 6 5 0 3 4 8 9 4 4 2 0 9 3 4 3 0 0 1 3\n",
      " 6 2 0 9 4 4 4 7 4 3 9 2 5 6 1 4 0 9 3 4 2 7 6 9 5 8 6 0 9 1 6 3 6 5 5 6 6\n",
      " 6 8 8 8 4 1 9 0 5 5 7 1 1 0 4 6 9 4 1 7 6 1 7 6 3 9 5 9 3 8 6 4 3 8 1 6 8\n",
      " 5 4 1 1 9 4 4 6 1 7 8 4 3 3 6 0 0 0 1 1 6 7 6 5 8 0 0 0 3 3 6 3 8 6 1 4 8\n",
      " 6 3 5 3 3 0 6 3 4 9 6 2 6 3 9 7 9 9 3 3 2 7 0 3 3 1 1 2 5 1 8 2 2 0 5 6 1\n",
      " 5 2 5 9 9 1 4 2 3 6 0 0 1 6 4 1 6 7 5 0 6 4 6 0 0 8 7 9 0 3 2 6 4 8 4 7 4\n",
      " 5 8 1 5 0 0 2 9 6 4 1 7 4 2 4 9 3 3 1 7 0 1 7 0 1 6 5 3 6 4 8 5 4 4 2 6 2\n",
      " 6 6 2 3 9 9 5 6 8 0 5 2 2 6 9 5 5 1 9 7 2 0 6 0 8 8 3 6 8 1 5 6 7 3 6 6 2\n",
      " 3 9 3 3 9 1 3 3 5 3 3 9 3 6 7 7 6 1 2 6 9 3 9 9 1 2 1 7 7 7 0 8 4 2 7 1 1\n",
      " 5 7 9 0 2 8 7 8 6 2 6 2 0 3 9 1 2 7 2 1 3 9 8 7 0 9 1 1 4 8 9 2 9 5 3 6 1\n",
      " 2 1 0 5 4 9 1 6 6 6 7 5 7 3 6 9 4 9 2 6 8 9 6 3 5 4 3 3 1 3 0 4 9 5 2 5 4\n",
      " 2 4 1 3 4 8 5 9 2 2 9 3 7 2 0 9 0 3 8 3 6 0 3 2 0 2 4 0 2 6 1 6 6 3 9 4 3\n",
      " 9 7 1 0 5 2 1 5 3 1 9 5 4 1 0 6 2 9 3 3 3 9 9 4 8 4 4 3 2 4 4 4 7 9 4 8 7\n",
      " 7 5 6 4 8 9 2 0 0 3 6 0 9 4 0 8 1 1 7 5 8 2 0 1 2 9 6 8 3 7 3 4 0 6 5 4 5\n",
      " 2 8 0 6 6 3 6 2 1 7 8 8 3 1 1 9 6 7 8 2 1 3 9 1 7 0 0 9 1 5 1 3 2 1 0 3 6\n",
      " 3 2 3 8 5 8 9 8 2 1 7 5 6 4 3 8 4 9 8 8 2 8 4 1 6 6 2 0 8 7 4 5 0 7 1 9 3\n",
      " 1 3 3 8 4 8 2 8 7 3 8 7 3 4 2 6 6 0 4 1 2 1 8 1 5 6 1 9 1 3 9 2 0 8 8 7 0\n",
      " 3 2 3 6 2 6 6 3 7 0 1 8 7 0 8 9 5 1 0 2 3 5 9 3 5 5 0 1 0 8 2 9 6 9 4 3 3\n",
      " 9 0 7 7 6 6 2 5 4 1 1 8 1 7 2 6 2 6 1 1 3 4 2 0 5 6 9 1 6 5 5 5 9 6 3 9 1\n",
      " 1 8 7 4 2 7 9 9 5 1 2 6 4 4 8 1 6 1 4 9 6 3 2 1 6 2 8 7 7 6 0 8 2 6 0 9 4\n",
      " 3 8 6 3 8 5 1 3 8 0 1 4 2 3 1 4 9 2 7 8 2 5 5 3 8 2 4 3 4 6 7 8 0 7 9 9 6\n",
      " 5 9 2 0 1 7 5 5 8 7 1 4 4 6 1 5 5 9 3 2 4 9 9 0 3 1 2 3 7 4 4 2 1 9 0 3 7\n",
      " 0 1 0 6 9 9 1 4 2 5 3 7 8 4 1 0 4 8 8 4 3 1 6 9 8 3 8 4 9 1 8 4 1 3 8 1 1\n",
      " 0 2 4 4 8 9 2 6 7 8 0 7 0 3 2 3 7 4 4 6 4 6 0 2 3 0 0 6 3 3 7 1 4 5 7 6 2\n",
      " 4 2 1 2 0 0 8 7 1 7 8 2 7 2 0 9 3 4 9 3 9 7 3 8 7 3 1 2 5 8 4 6 1 5 9 9 0\n",
      " 1 6 2 7 5 4 7 1 2 8 4 9 0 5 6 4 7 1 6 2 5 1 5 1 4 3 4 0 2 9 4 0 4 6 1 0 4\n",
      " 0 8 2 1 0 2 3 7 7 7 7 1 6 3 5 1 4 2 8 6 7 4 6 3 7 3 8 5 3 6 5 5 2 7 9 9 5\n",
      " 2] [4 5 4 1 3 0 6 8 8 8 0 1 7 0 2 9 4 2 6 8 0 3 4 8 8 4 4 2 0 4 3 4 3 0 0 1 3\n",
      " 6 2 0 9 4 4 4 9 2 3 9 2 5 6 1 4 9 9 5 4 2 7 6 9 5 3 6 0 9 1 6 3 6 5 5 6 6\n",
      " 6 8 8 8 4 1 9 0 5 3 9 6 1 0 4 6 9 4 1 3 6 1 9 6 3 9 5 9 3 9 6 4 8 1 1 6 8\n",
      " 5 9 1 1 8 7 4 6 1 7 8 4 3 3 6 0 0 0 1 1 6 7 6 5 8 5 0 0 8 3 6 3 8 6 1 4 8\n",
      " 6 3 0 3 3 0 6 3 4 9 6 2 6 3 9 7 9 9 3 3 2 7 0 3 3 1 1 2 5 1 8 2 8 0 5 6 1\n",
      " 5 6 5 9 5 1 4 2 3 6 0 0 1 5 4 1 6 7 5 0 6 4 6 0 0 8 7 9 0 3 7 6 4 8 4 7 4\n",
      " 5 4 1 9 0 0 2 7 6 4 1 7 9 2 4 9 3 3 7 2 0 8 7 0 1 8 5 3 6 9 8 2 9 4 2 6 2\n",
      " 6 6 2 3 9 9 9 6 8 0 5 2 2 6 9 5 5 1 9 4 2 0 6 0 8 8 2 6 8 1 5 6 7 3 6 2 2\n",
      " 3 9 5 3 9 1 3 3 5 8 3 9 3 8 7 7 6 1 2 6 9 3 9 9 1 2 1 7 7 7 0 8 4 6 7 1 1\n",
      " 5 7 9 0 2 8 9 2 2 2 6 2 0 3 7 1 2 7 7 7 3 7 8 7 0 9 1 1 4 0 9 2 7 8 3 6 1\n",
      " 2 2 0 5 4 9 1 6 6 6 7 5 9 3 6 9 2 9 2 6 8 9 6 3 5 4 3 5 1 3 0 5 9 5 5 5 4\n",
      " 4 4 1 2 4 8 5 9 2 2 9 3 7 2 0 9 0 3 9 3 6 0 3 2 0 2 4 0 2 6 1 6 4 5 9 4 3\n",
      " 9 7 1 0 5 2 1 5 3 1 9 0 4 1 0 6 4 9 3 8 3 7 9 4 3 9 4 3 6 4 4 4 7 9 4 8 3\n",
      " 7 5 6 4 8 9 2 0 0 3 6 0 3 4 0 5 1 1 7 5 8 2 0 1 2 9 6 8 3 7 3 7 0 6 3 4 5\n",
      " 6 8 0 6 6 3 5 6 1 7 8 2 2 2 1 8 6 7 8 2 1 3 9 1 2 0 0 4 1 5 1 3 2 1 0 3 6\n",
      " 5 2 3 8 3 5 3 8 2 1 7 3 6 4 3 8 4 9 8 8 2 9 4 1 6 6 3 0 8 7 4 5 0 2 1 8 3\n",
      " 1 3 3 8 4 8 6 2 7 3 8 5 3 4 2 6 6 0 4 1 2 7 8 1 6 6 1 9 1 3 8 2 0 8 3 7 0\n",
      " 3 2 3 6 2 6 6 3 7 0 1 8 7 0 8 9 5 1 0 2 3 8 9 3 5 5 0 1 0 8 2 3 6 9 4 3 3\n",
      " 9 0 7 9 6 6 2 7 4 1 1 8 1 2 1 6 6 6 1 1 3 4 3 0 5 6 6 1 2 5 3 5 7 6 3 9 1\n",
      " 5 8 7 9 2 7 9 7 3 1 2 6 4 4 8 1 6 1 4 9 6 3 4 1 6 2 8 7 9 6 3 8 2 6 0 9 4\n",
      " 3 5 6 3 2 8 1 3 8 0 1 4 2 8 1 4 9 2 7 4 2 6 5 9 8 2 2 3 4 6 9 8 0 7 9 9 6\n",
      " 5 4 2 9 1 7 5 8 8 9 1 5 4 5 1 5 5 8 3 2 4 9 9 0 3 1 2 3 5 4 4 2 1 9 0 8 7\n",
      " 0 1 0 6 9 9 1 4 2 5 3 9 8 4 1 0 4 8 8 4 3 1 6 9 8 3 8 4 9 1 8 9 1 3 8 1 1\n",
      " 0 2 4 4 3 9 2 6 7 8 0 7 0 3 2 3 7 4 4 6 4 4 0 2 3 0 0 6 3 8 7 1 4 5 7 6 3\n",
      " 4 2 8 2 0 0 8 7 8 7 8 3 7 2 0 9 3 4 9 3 9 7 3 8 7 3 1 2 9 8 4 6 1 5 9 9 0\n",
      " 1 6 2 7 5 4 7 1 2 2 4 9 0 5 2 4 7 1 6 2 5 1 5 5 4 3 4 0 6 9 4 0 4 6 1 0 6\n",
      " 0 8 5 1 0 2 3 7 7 7 7 8 6 3 2 1 4 6 4 5 7 6 6 3 7 3 5 3 3 2 5 5 2 5 4 9 5\n",
      " 2]\n"
     ]
    },
    {
     "data": {
      "text/plain": [
       "0.829"
      ]
     },
     "execution_count": 56,
     "metadata": {},
     "output_type": "execute_result"
    }
   ],
   "source": [
    "dev_predictions = make_predictions(X_dev, W1, b1, W2, b2)\n",
    "get_accuracy(dev_predictions, Y_dev)"
   ]
  }
 ],
 "metadata": {
  "kernelspec": {
   "display_name": "Python 3",
   "language": "python",
   "name": "python3"
  },
  "language_info": {
   "codemirror_mode": {
    "name": "ipython",
    "version": 3
   },
   "file_extension": ".py",
   "mimetype": "text/x-python",
   "name": "python",
   "nbconvert_exporter": "python",
   "pygments_lexer": "ipython3",
   "version": "3.11.0"
  },
  "orig_nbformat": 4,
  "vscode": {
   "interpreter": {
    "hash": "c261aea317cc0286b3b3261fbba9abdec21eaa57589985bb7a274bf54d6cc0a7"
   }
  }
 },
 "nbformat": 4,
 "nbformat_minor": 2
}
