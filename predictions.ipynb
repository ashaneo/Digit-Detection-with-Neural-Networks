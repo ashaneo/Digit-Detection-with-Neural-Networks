{
 "cells": [
  {
   "cell_type": "code",
   "execution_count": 2,
   "metadata": {},
   "outputs": [],
   "source": [
    "import numpy as np\n",
    "import pandas as pd\n",
    "from matplotlib import pyplot as plt\n",
    "import joblib\n"
   ]
  },
  {
   "cell_type": "code",
   "execution_count": 3,
   "metadata": {},
   "outputs": [],
   "source": [
    "#Obtain the trained model to do predictions\n",
    "# Specify the file path where the model is saved\n",
    "model_filename = 'trained_digit_detection_model.pkl'\n",
    "\n",
    "# Load the model using joblib\n",
    "loaded_model = joblib.load(model_filename)\n",
    "\n",
    "# Access the model parameters like this:\n",
    "W1 = loaded_model['W1']\n",
    "b1 = loaded_model['b1']\n",
    "W2 = loaded_model['W2']\n",
    "b2 = loaded_model['b2']\n",
    "\n",
    "# Use the loaded model for predictions or further analysis"
   ]
  },
  {
   "cell_type": "code",
   "execution_count": 4,
   "metadata": {},
   "outputs": [
    {
     "data": {
      "text/html": [
       "<div>\n",
       "<style scoped>\n",
       "    .dataframe tbody tr th:only-of-type {\n",
       "        vertical-align: middle;\n",
       "    }\n",
       "\n",
       "    .dataframe tbody tr th {\n",
       "        vertical-align: top;\n",
       "    }\n",
       "\n",
       "    .dataframe thead th {\n",
       "        text-align: right;\n",
       "    }\n",
       "</style>\n",
       "<table border=\"1\" class=\"dataframe\">\n",
       "  <thead>\n",
       "    <tr style=\"text-align: right;\">\n",
       "      <th></th>\n",
       "      <th>label</th>\n",
       "      <th>pixel0</th>\n",
       "      <th>pixel1</th>\n",
       "      <th>pixel2</th>\n",
       "      <th>pixel3</th>\n",
       "      <th>pixel4</th>\n",
       "      <th>pixel5</th>\n",
       "      <th>pixel6</th>\n",
       "      <th>pixel7</th>\n",
       "      <th>pixel8</th>\n",
       "      <th>...</th>\n",
       "      <th>pixel774</th>\n",
       "      <th>pixel775</th>\n",
       "      <th>pixel776</th>\n",
       "      <th>pixel777</th>\n",
       "      <th>pixel778</th>\n",
       "      <th>pixel779</th>\n",
       "      <th>pixel780</th>\n",
       "      <th>pixel781</th>\n",
       "      <th>pixel782</th>\n",
       "      <th>pixel783</th>\n",
       "    </tr>\n",
       "  </thead>\n",
       "  <tbody>\n",
       "    <tr>\n",
       "      <th>0</th>\n",
       "      <td>1</td>\n",
       "      <td>0</td>\n",
       "      <td>0</td>\n",
       "      <td>0</td>\n",
       "      <td>0</td>\n",
       "      <td>0</td>\n",
       "      <td>0</td>\n",
       "      <td>0</td>\n",
       "      <td>0</td>\n",
       "      <td>0</td>\n",
       "      <td>...</td>\n",
       "      <td>0</td>\n",
       "      <td>0</td>\n",
       "      <td>0</td>\n",
       "      <td>0</td>\n",
       "      <td>0</td>\n",
       "      <td>0</td>\n",
       "      <td>0</td>\n",
       "      <td>0</td>\n",
       "      <td>0</td>\n",
       "      <td>0</td>\n",
       "    </tr>\n",
       "    <tr>\n",
       "      <th>1</th>\n",
       "      <td>0</td>\n",
       "      <td>0</td>\n",
       "      <td>0</td>\n",
       "      <td>0</td>\n",
       "      <td>0</td>\n",
       "      <td>0</td>\n",
       "      <td>0</td>\n",
       "      <td>0</td>\n",
       "      <td>0</td>\n",
       "      <td>0</td>\n",
       "      <td>...</td>\n",
       "      <td>0</td>\n",
       "      <td>0</td>\n",
       "      <td>0</td>\n",
       "      <td>0</td>\n",
       "      <td>0</td>\n",
       "      <td>0</td>\n",
       "      <td>0</td>\n",
       "      <td>0</td>\n",
       "      <td>0</td>\n",
       "      <td>0</td>\n",
       "    </tr>\n",
       "    <tr>\n",
       "      <th>2</th>\n",
       "      <td>1</td>\n",
       "      <td>0</td>\n",
       "      <td>0</td>\n",
       "      <td>0</td>\n",
       "      <td>0</td>\n",
       "      <td>0</td>\n",
       "      <td>0</td>\n",
       "      <td>0</td>\n",
       "      <td>0</td>\n",
       "      <td>0</td>\n",
       "      <td>...</td>\n",
       "      <td>0</td>\n",
       "      <td>0</td>\n",
       "      <td>0</td>\n",
       "      <td>0</td>\n",
       "      <td>0</td>\n",
       "      <td>0</td>\n",
       "      <td>0</td>\n",
       "      <td>0</td>\n",
       "      <td>0</td>\n",
       "      <td>0</td>\n",
       "    </tr>\n",
       "    <tr>\n",
       "      <th>3</th>\n",
       "      <td>4</td>\n",
       "      <td>0</td>\n",
       "      <td>0</td>\n",
       "      <td>0</td>\n",
       "      <td>0</td>\n",
       "      <td>0</td>\n",
       "      <td>0</td>\n",
       "      <td>0</td>\n",
       "      <td>0</td>\n",
       "      <td>0</td>\n",
       "      <td>...</td>\n",
       "      <td>0</td>\n",
       "      <td>0</td>\n",
       "      <td>0</td>\n",
       "      <td>0</td>\n",
       "      <td>0</td>\n",
       "      <td>0</td>\n",
       "      <td>0</td>\n",
       "      <td>0</td>\n",
       "      <td>0</td>\n",
       "      <td>0</td>\n",
       "    </tr>\n",
       "    <tr>\n",
       "      <th>4</th>\n",
       "      <td>0</td>\n",
       "      <td>0</td>\n",
       "      <td>0</td>\n",
       "      <td>0</td>\n",
       "      <td>0</td>\n",
       "      <td>0</td>\n",
       "      <td>0</td>\n",
       "      <td>0</td>\n",
       "      <td>0</td>\n",
       "      <td>0</td>\n",
       "      <td>...</td>\n",
       "      <td>0</td>\n",
       "      <td>0</td>\n",
       "      <td>0</td>\n",
       "      <td>0</td>\n",
       "      <td>0</td>\n",
       "      <td>0</td>\n",
       "      <td>0</td>\n",
       "      <td>0</td>\n",
       "      <td>0</td>\n",
       "      <td>0</td>\n",
       "    </tr>\n",
       "  </tbody>\n",
       "</table>\n",
       "<p>5 rows × 785 columns</p>\n",
       "</div>"
      ],
      "text/plain": [
       "   label  pixel0  pixel1  pixel2  pixel3  pixel4  pixel5  pixel6  pixel7   \n",
       "0      1       0       0       0       0       0       0       0       0  \\\n",
       "1      0       0       0       0       0       0       0       0       0   \n",
       "2      1       0       0       0       0       0       0       0       0   \n",
       "3      4       0       0       0       0       0       0       0       0   \n",
       "4      0       0       0       0       0       0       0       0       0   \n",
       "\n",
       "   pixel8  ...  pixel774  pixel775  pixel776  pixel777  pixel778  pixel779   \n",
       "0       0  ...         0         0         0         0         0         0  \\\n",
       "1       0  ...         0         0         0         0         0         0   \n",
       "2       0  ...         0         0         0         0         0         0   \n",
       "3       0  ...         0         0         0         0         0         0   \n",
       "4       0  ...         0         0         0         0         0         0   \n",
       "\n",
       "   pixel780  pixel781  pixel782  pixel783  \n",
       "0         0         0         0         0  \n",
       "1         0         0         0         0  \n",
       "2         0         0         0         0  \n",
       "3         0         0         0         0  \n",
       "4         0         0         0         0  \n",
       "\n",
       "[5 rows x 785 columns]"
      ]
     },
     "execution_count": 4,
     "metadata": {},
     "output_type": "execute_result"
    }
   ],
   "source": [
    "data = pd.read_csv(\"digit-recognizer/train.csv\") #Here we use the famous MNIST dataset\n",
    "#You can download it from here: https://www.kaggle.com/c/digit-recognizer/data\n",
    "data.head()"
   ]
  },
  {
   "cell_type": "code",
   "execution_count": 5,
   "metadata": {},
   "outputs": [],
   "source": [
    "data = np.array(data) # convert data into to numpy array\n",
    "m, n = data.shape # m = 42000, n = 785 since there are 42000 examples and 784 pixels + 1 label\n",
    "np.random.shuffle(data) # shuffle before splitting into dev and training sets\n",
    "\n",
    "data_dev = data[0:1000].T # first 1000 examples for dev set (1000, 785) and transpose\n",
    "Y_dev = data_dev[0] # first column is the labels which represent the label of the digit\n",
    "X_dev = data_dev[1:n] # rest of the columns are the pixels\n",
    "X_dev = X_dev / 255 # normalize the pixels we will divide by 255 since the max value of a pixel is 255\n",
    "\n",
    "data_train = data[1000:m].T # rest of the examples for training set (41000, 785) and transpose\n",
    "Y_train = data_train[0] # first column is the labels which represent the label of the digit\n",
    "X_train = data_train[1:n] # rest of the columns are the pixels\n",
    "X_train = X_train / 255. # normalize the pixels we will divide by 255 since the max value of a pixel is 255\n",
    "_,m_train = X_train.shape # m_train = 41000 examples for training set"
   ]
  },
  {
   "cell_type": "code",
   "execution_count": 6,
   "metadata": {},
   "outputs": [],
   "source": [
    "def ReLu(Z): #ReLu function which will be used as activation function\n",
    "    return np.maximum(Z, 0) #Return the maximum value between Z and 0\n",
    "    \n",
    "def Softmax(Z): #Softmax function which will be used as activation function\n",
    "    A =  np.exp(Z) / sum(np.exp(Z)) #Return the exponential of Z divided by the sum of exponential of Z\n",
    "    return A\n",
    "\n",
    "def forward_prop(W1, b1, W2, b2, X): #Forward propagation function\n",
    "    Z1 = W1.dot(X) + b1 \n",
    "    A1 = ReLu(Z1)\n",
    "    Z2 = W2.dot(A1) + b2\n",
    "    A2 = Softmax(Z2)\n",
    "    return Z1, A1, Z2, A2"
   ]
  },
  {
   "cell_type": "code",
   "execution_count": 10,
   "metadata": {},
   "outputs": [],
   "source": [
    "def get_predictions(A2): #Get predictions function which will return the predictions of the model\n",
    "    return np.argmax(A2, 0)\n",
    "\n",
    "def make_predictions(X, W1, b1, W2, b2):\n",
    "    _, _, _, A2 = forward_prop(W1, b1, W2, b2, X)\n",
    "    predictions = get_predictions(A2)\n",
    "    return predictions\n",
    "\n",
    "def get_accuracy(predictions, Y): #Get accuracy function which will return the accuracy of the model\n",
    "    print(predictions, Y)\n",
    "    return np.sum(predictions == Y) / Y.size\n",
    "\n",
    "\n",
    "def test_prediction(index, W1, b1, W2, b2):\n",
    "    current_image = X_train[:, index, None]\n",
    "    prediction = make_predictions(X_train[:, index, None], W1, b1, W2, b2)\n",
    "    label = Y_train[index]\n",
    "    print(\"Prediction: \", prediction)\n",
    "    print(\"Label: \", label)\n",
    "    \n",
    "    current_image = current_image.reshape((28, 28)) * 255\n",
    "    plt.gray()\n",
    "    plt.imshow(current_image, interpolation='nearest')\n",
    "    plt.show()"
   ]
  },
  {
   "cell_type": "code",
   "execution_count": 8,
   "metadata": {},
   "outputs": [
    {
     "name": "stdout",
     "output_type": "stream",
     "text": [
      "Prediction:  [8]\n",
      "Label:  8\n"
     ]
    },
    {
     "data": {
      "image/png": "[encoded data removed]",
      "text/plain": [
       "<Figure size 640x480 with 1 Axes>"
      ]
     },
     "metadata": {},
     "output_type": "display_data"
    },
    {
     "name": "stdout",
     "output_type": "stream",
     "text": [
      "Prediction:  [0]\n",
      "Label:  0\n"
     ]
    },
    {
     "data": {
      "image/png": "[encoded data removed]",
      "text/plain": [
       "<Figure size 640x480 with 1 Axes>"
      ]
     },
     "metadata": {},
     "output_type": "display_data"
    },
    {
     "name": "stdout",
     "output_type": "stream",
     "text": [
      "Prediction:  [3]\n",
      "Label:  3\n"
     ]
    },
    {
     "data": {
      "image/png": "[encoded data removed]",
      "text/plain": [
       "<Figure size 640x480 with 1 Axes>"
      ]
     },
     "metadata": {},
     "output_type": "display_data"
    },
    {
     "name": "stdout",
     "output_type": "stream",
     "text": [
      "Prediction:  [9]\n",
      "Label:  4\n"
     ]
    },
    {
     "data": {
      "image/png": "[encoded data removed]",
      "text/plain": [
       "<Figure size 640x480 with 1 Axes>"
      ]
     },
     "metadata": {},
     "output_type": "display_data"
    }
   ],
   "source": [
    "test_prediction(0, W1, b1, W2, b2)\n",
    "test_prediction(1, W1, b1, W2, b2)\n",
    "test_prediction(2, W1, b1, W2, b2)\n",
    "test_prediction(3, W1, b1, W2, b2)"
   ]
  },
  {
   "cell_type": "code",
   "execution_count": 11,
   "metadata": {},
   "outputs": [
    {
     "name": "stdout",
     "output_type": "stream",
     "text": [
      "[4 8 5 9 6 0 2 8 9 5 5 4 9 4 7 1 1 6 3 7 8 9 2 2 3 7 6 1 8 1 4 4 8 4 5 4 2\n",
      " 7 6 2 3 0 1 6 0 3 6 2 5 9 9 8 4 1 3 3 0 5 0 2 1 3 8 5 6 0 9 0 6 9 8 8 8 1\n",
      " 2 9 9 9 2 7 4 1 7 5 4 2 6 7 6 6 6 2 9 7 8 5 7 6 7 0 9 8 8 2 4 9 5 5 1 1 1\n",
      " 4 2 8 6 0 9 3 4 9 2 1 1 4 8 8 5 0 2 2 8 2 4 4 8 8 1 0 2 6 2 0 2 1 8 6 1 5\n",
      " 3 7 1 3 5 4 3 5 7 1 9 2 4 9 8 6 6 9 7 7 5 8 3 7 0 8 4 2 6 1 5 8 1 6 4 6 8\n",
      " 8 1 0 3 5 4 9 8 4 5 4 3 7 6 8 8 7 9 8 3 3 2 9 8 3 3 4 3 8 9 3 7 1 8 9 2 5\n",
      " 6 9 6 9 4 8 3 5 6 8 0 6 0 9 6 0 3 7 8 3 1 3 7 7 2 1 9 1 5 0 8 2 1 3 7 9 7\n",
      " 8 2 9 8 4 7 8 6 8 8 4 1 1 9 9 1 3 6 1 2 3 0 8 0 3 9 1 9 3 0 1 8 9 3 3 4 3\n",
      " 4 0 9 0 0 9 6 7 0 3 4 8 3 7 3 3 5 1 7 1 3 8 9 2 4 9 0 1 0 0 2 8 8 4 1 4 9\n",
      " 8 8 1 3 9 8 6 5 2 9 3 1 1 0 8 6 6 3 9 2 7 8 1 0 3 8 6 5 1 7 8 4 1 8 5 7 2\n",
      " 3 6 6 2 1 9 9 3 3 6 1 9 6 0 5 1 9 1 1 1 5 3 3 3 1 9 1 4 3 8 1 5 9 3 3 2 3\n",
      " 1 1 8 0 6 8 0 9 5 9 9 8 2 0 6 5 8 7 0 2 9 9 4 1 2 6 0 6 8 5 3 9 2 1 1 0 4\n",
      " 9 5 6 5 6 1 1 4 8 9 6 2 5 9 3 6 4 0 8 9 7 0 9 2 1 2 5 3 5 8 1 0 2 2 0 2 6\n",
      " 7 8 7 3 8 1 5 7 8 1 6 3 2 2 6 7 2 4 6 3 2 5 3 3 3 7 2 7 8 7 3 6 5 9 8 0 9\n",
      " 9 2 3 7 8 9 4 6 9 6 0 0 2 1 1 1 5 3 4 5 6 7 1 6 5 0 7 5 1 8 9 5 4 0 2 0 8\n",
      " 4 0 9 4 5 5 5 4 5 4 6 1 6 0 5 1 9 8 2 2 3 8 3 5 4 2 5 3 7 3 2 4 8 5 4 0 6\n",
      " 2 7 9 5 0 8 5 9 1 3 3 2 0 7 1 7 5 5 9 8 0 7 7 7 8 8 6 0 0 8 5 3 9 5 6 2 5\n",
      " 1 7 5 0 8 2 1 9 5 9 5 4 5 1 0 1 6 0 6 7 3 6 1 4 5 1 6 1 8 8 5 7 6 1 1 0 6\n",
      " 9 5 1 9 8 4 2 7 1 8 3 7 0 3 7 1 2 4 0 4 8 0 6 7 4 9 9 7 1 3 6 9 1 1 7 6 2\n",
      " 4 1 3 6 2 1 6 4 1 6 0 4 2 1 1 5 9 9 9 5 2 5 3 1 6 2 3 2 9 6 8 7 3 8 2 1 0\n",
      " 1 2 0 4 4 0 8 2 3 8 9 9 1 5 4 5 4 3 9 9 5 9 4 5 8 7 0 7 9 2 2 4 6 3 5 0 7\n",
      " 1 9 6 1 2 9 1 4 1 3 7 0 8 6 0 2 4 5 6 3 0 8 4 1 9 1 2 8 1 2 0 1 7 6 6 1 2\n",
      " 3 0 2 0 9 6 1 5 3 9 0 2 7 8 9 9 1 1 8 8 2 1 0 3 3 2 8 2 5 8 1 5 0 4 9 3 9\n",
      " 3 9 7 1 9 3 0 3 0 6 7 1 8 3 6 8 0 1 3 0 2 3 2 1 6 3 6 6 3 6 4 9 3 3 6 7 7\n",
      " 5 9 7 4 8 3 8 5 5 8 4 4 0 4 0 0 3 7 3 0 5 5 7 1 5 7 6 9 1 5 2 2 4 2 3 0 4\n",
      " 3 6 8 3 0 5 8 1 9 5 9 1 5 2 6 7 1 7 4 8 2 2 6 4 5 4 4 8 6 6 1 9 5 1 1 4 3\n",
      " 4 3 8 1 0 0 3 7 6 4 9 2 4 4 1 1 7 0 2 3 9 6 6 4 7 4 4 6 0 1 7 0 6 6 1 3 6\n",
      " 7] [2 2 5 9 6 0 2 8 9 5 5 4 9 4 7 1 1 6 7 7 8 7 2 1 3 7 6 1 8 1 4 4 8 4 5 4 2\n",
      " 7 6 2 3 0 1 6 0 5 6 2 5 7 9 9 4 7 3 3 0 8 0 6 1 3 8 5 6 0 7 0 6 9 8 8 8 1\n",
      " 2 9 9 4 2 7 4 1 7 5 4 2 6 7 6 6 6 2 7 7 8 5 7 6 7 0 7 8 8 2 4 9 5 5 1 1 1\n",
      " 3 2 8 6 8 9 3 4 9 2 1 1 4 8 8 5 0 2 4 8 6 9 4 0 3 1 0 2 6 2 0 8 1 8 6 8 5\n",
      " 3 8 1 3 5 4 3 5 7 1 9 3 4 9 8 6 6 9 7 7 6 0 3 7 0 8 4 8 6 1 3 8 1 6 8 6 9\n",
      " 7 1 0 3 5 4 7 8 4 3 4 3 7 6 3 8 7 9 5 3 8 2 8 8 3 3 4 3 8 9 3 7 1 8 4 2 5\n",
      " 5 9 6 9 4 5 3 3 6 8 0 0 0 9 6 0 3 7 8 3 1 8 7 7 3 1 9 1 5 0 8 2 1 3 7 9 7\n",
      " 8 6 4 8 7 7 8 6 7 8 4 1 1 9 9 1 8 6 1 2 3 0 8 0 5 9 1 4 3 0 1 8 9 3 3 4 3\n",
      " 4 0 9 0 0 9 5 7 0 3 4 8 3 7 3 3 5 1 7 1 3 8 9 2 4 7 0 1 0 0 2 8 5 4 1 4 9\n",
      " 8 4 1 3 9 9 6 5 2 9 3 1 1 0 8 6 6 3 9 8 7 8 1 0 3 6 6 5 1 7 5 4 1 8 7 7 6\n",
      " 3 6 6 2 1 9 9 3 3 6 1 4 2 0 5 8 9 1 1 1 5 3 7 3 1 9 1 4 3 2 1 5 9 3 3 2 3\n",
      " 1 1 8 0 6 8 0 7 5 9 9 8 7 8 5 5 1 7 0 2 9 9 4 1 2 6 0 9 8 5 8 9 2 1 1 0 4\n",
      " 9 3 6 3 6 1 1 4 0 9 5 2 5 9 0 6 9 0 8 7 7 0 9 2 1 6 5 5 6 8 1 0 2 2 0 5 6\n",
      " 7 8 7 3 8 1 5 3 8 1 6 3 2 2 6 7 3 9 5 1 2 4 3 5 3 7 2 7 8 7 5 6 5 9 8 0 4\n",
      " 9 2 3 7 8 7 5 6 9 6 0 0 7 1 5 1 5 3 4 5 6 7 1 6 3 0 2 8 1 8 2 3 9 0 2 0 8\n",
      " 4 0 9 4 5 5 5 4 5 4 6 1 6 0 5 1 9 8 2 0 3 8 3 5 9 2 5 5 7 9 2 4 8 3 4 0 6\n",
      " 2 9 9 5 0 8 5 9 1 5 3 2 0 4 1 7 5 5 9 8 0 7 9 7 8 8 6 0 0 8 5 3 4 5 6 2 6\n",
      " 1 7 5 0 8 2 1 7 5 9 5 4 5 7 0 1 6 0 6 7 3 6 1 1 5 1 6 1 8 8 5 7 6 8 1 0 6\n",
      " 5 8 1 9 8 9 2 7 1 8 3 7 0 3 7 1 2 4 0 4 8 0 6 7 4 5 9 7 1 3 6 7 1 3 7 6 2\n",
      " 4 1 3 6 2 1 6 4 1 6 0 4 8 1 1 5 9 9 9 5 2 5 3 1 4 2 3 2 9 6 8 7 3 8 2 1 0\n",
      " 1 2 0 9 4 0 2 2 3 8 9 7 1 5 4 5 4 3 9 9 8 9 4 5 8 7 0 7 9 0 2 4 6 3 5 0 7\n",
      " 1 9 6 1 2 9 4 4 1 3 7 0 8 6 0 2 4 5 0 8 0 2 4 1 9 1 2 5 1 2 0 1 7 6 6 2 3\n",
      " 5 0 7 0 9 6 1 5 3 9 0 2 7 8 9 9 1 1 8 8 2 1 0 3 2 2 1 2 5 5 1 5 0 4 9 3 9\n",
      " 3 9 1 1 9 5 0 3 0 6 7 1 8 3 6 8 0 1 5 0 2 5 2 1 6 5 6 6 3 6 4 9 3 3 6 9 7\n",
      " 5 9 7 4 6 3 8 5 5 2 4 4 0 4 0 0 3 7 5 5 5 5 7 1 3 7 6 9 1 3 2 4 4 2 5 0 9\n",
      " 3 6 2 2 0 5 8 1 9 8 9 1 5 2 6 7 1 7 4 8 2 2 6 7 5 4 4 8 6 6 1 9 8 1 1 8 3\n",
      " 4 3 8 1 0 0 3 7 6 4 8 2 4 4 1 1 7 0 2 3 9 6 6 4 7 4 4 6 0 1 7 0 6 6 1 3 6\n",
      " 7]\n"
     ]
    },
    {
     "data": {
      "text/plain": [
       "0.833"
      ]
     },
     "execution_count": 11,
     "metadata": {},
     "output_type": "execute_result"
    }
   ],
   "source": [
    "dev_predictions = make_predictions(X_dev, W1, b1, W2, b2)\n",
    "get_accuracy(dev_predictions, Y_dev)"
   ]
  }
 ],
 "metadata": {
  "kernelspec": {
   "display_name": "Python 3",
   "language": "python",
   "name": "python3"
  },
  "language_info": {
   "codemirror_mode": {
    "name": "ipython",
    "version": 3
   },
   "file_extension": ".py",
   "mimetype": "text/x-python",
   "name": "python",
   "nbconvert_exporter": "python",
   "pygments_lexer": "ipython3",
   "version": "3.11.0"
  },
  "orig_nbformat": 4,
  "vscode": {
   "interpreter": {
    "hash": "c261aea317cc0286b3b3261fbba9abdec21eaa57589985bb7a274bf54d6cc0a7"
   }
  }
 },
 "nbformat": 4,
 "nbformat_minor": 2
}
